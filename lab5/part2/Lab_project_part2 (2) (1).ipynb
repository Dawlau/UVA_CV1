{
  "cells": [
    {
      "cell_type": "markdown",
      "metadata": {
        "id": "d7PRKfXw99hy"
      },
      "source": [
        "# **Lab Project Part 2 - CNNs for Image Classification**\n",
        "------------------------------"
      ]
    },
    {
      "cell_type": "markdown",
      "metadata": {
        "id": "iY6wdmc299h1"
      },
      "source": [
        "### General Guideline\n",
        "1. **Aim**:\n",
        "    - *Understand  the  basic  Image  Classification/Recognition  pipeline  and  the  data-driven  approach (train/predict stages).*\n",
        "    - *Get used to one of deep learning framework(PyTorch).*\n",
        "2. **Prerequisite**:\n",
        "    - *Familiar with python and relevant packages.*\n",
        "    - *Known the basic knowledge of Convolutional Neural Networks*\n",
        "3. **Guidelines**:\n",
        "    Students should work on the assignments in a group of *three person* for two weeks. Some minor additions and changes might be done during these three weeks. Students will be informed for these changes via Canvas. Any questions regarding the assignment content can be discussed on Piazza. Students are expected to do this assignment in Python and Pytorch, however students are free to choose other tools (like Tensorflow). Your source code and report must be handed in together in a zip file (*ID1_ID2_ID3.zip*) before the deadline. Make sure your report follows these guidelines:\n",
        "    - *The maximum number of pages is 10 (single-column, including tables and figures). Please express your thoughts concisely.*\n",
        "    - *Follow the given script and answer all given questions (in green boxes). Briefly describe what you implemented. Blue boxes are there to give you hints to answer questions.*\n",
        "    - *Analyze your results and discuss them, e.g.*, why algorithm A works better than algorithm B in a certain problem.\n",
        "    - *Tables and figures must be accompanied by a brief description. Do not forget to add a number, a title, and if applicable name and unit of variables in a table, name and unit of axes and legends in a figure.*\n",
        "4. **Late submissions** are not allowed. Assignments that are submitted after the strict deadline will not be graded. In case of submission conflicts, TAs' system clock is taken as reference. We strongly recommend submitting well in advance, to avoid last minute system failure issues.\n",
        "5. **Plagiarism note**: \n",
        "Keep in mind that plagiarism (submitted materials which are not your work) is a serious crime and any misconduct shall be punished with the university regulations.\n",
        "\n",
        "### PyTorch versions\n",
        "we assume that you are using the latest PyTorch version(>=1.4)\n",
        "\n",
        "### PyTorch Tutorial & Docs\n",
        "This tutorial aims to make you familiar with the programming environment that will be used throughout the course. If you have experience with PyTorch or other frameworks (TensorFlow, MXNet *etc.*), you can skip the tutorial exercises; otherwise, we suggest that you complete them all, as they are helpful for getting hands-on experience.\n",
        "\n",
        "**Anaconda Environment** If you want to run the notebook locally, we recommend installing *anaconda* for configuring *python* package dependencies, whereas it's also fine to use other environment managers as you like. The installation of anaconda can be found in [anaconda link](https://docs.anaconda.com/anaconda/install/).\n",
        "\n",
        "**Installation** The installation of PyTorch is available at [install link](https://pytorch.org/get-started/locally/) depending on your device and system.\n",
        "\n",
        "**Getting start** The 60-minute blitz can be found at [blitz](https://pytorch.org/tutorials/beginner/deep_learning_60min_blitz.html), and and examples are at [examples](https://pytorch.org/tutorials/beginner/pytorch_with_examples.html)\n",
        "\n",
        "**Documents** There might be potential unknown functions or classes, you shall look through the official documents website ([Docs](https://pytorch.org/docs/stable/index.html)) and figure them out by yourself. (***Think***: What's the difference between *torch.nn.Conv2d* and *torch.nn.functional.conv2d*?)\n",
        "<!-- You can learn pytorch from the [tutorial link](https://pytorch.org/tutorials/). The Docs information can be searched at [Docs](https://pytorch.org/docs/stable/index.html). In this assignments, we wish you to form the basic capability of using one of the well-known   -->"
      ]
    },
    {
      "cell_type": "markdown",
      "metadata": {
        "id": "D2EILNe3JR1b"
      },
      "source": [
        "##  **Introduction**\n",
        "\n",
        "This part of the assignment makes use of Convolutional Neural Networks (CNN). The previous part makes use of hand-crafted features like SIFT to represent images, then trains a classifier on top of them. In this way, learning is a two-step procedure with image representation and learning. The method used here instead *learns* the features jointly with the classification. Training CNNs roughly consists of three parts:  (i) Creating the network architecture, (ii) Reprocessing the data, (iii) Feeding the data to the network, and updating the parameters. Please follow the instruction and finish the below tasks. (**Note:**  **Feel free to change the provided codes**.)"
      ]
    },
    {
      "cell_type": "markdown",
      "metadata": {
        "id": "CXQBnhT499h2"
      },
      "source": [
        "## **Session 1: Image Classifiation on CIFAR-100**\n",
        "### 1.1 Install pytorch and run the given codes\n",
        "\n",
        "First of all, you need to install PyTorch and relevant packages. In this session, we will use [CIFAR-100](https://www.cs.toronto.edu/~kriz/cifar.html) as the training and testing dataset. "
      ]
    },
    {
      "cell_type": "code",
      "execution_count": 1,
      "metadata": {
        "id": "47K1Kzph99h3"
      },
      "outputs": [],
      "source": [
        "#####################################################\n",
        "# referenced codes: https://pytorch.org/tutorials/\n",
        "# referenced codes: http://cs231n.stanford.edu/\n",
        "# referenced codes: https://cs.stanford.edu/~acoates/stl10/\n",
        "######################################################\n",
        "import torch\n",
        "import torchvision\n",
        "import torchvision.transforms as transforms\n",
        "import torch.nn as nn\n",
        "import torch.nn.functional as F\n",
        "import matplotlib.pyplot as plt\n",
        "import numpy as np\n",
        "import torch.optim as optim\n",
        "import pickle\n",
        "\n",
        "from torch.utils.data import Dataset, DataLoader\n",
        "from PIL import Image\n",
        "from collections import defaultdict"
      ]
    },
    {
      "cell_type": "code",
      "execution_count": 2,
      "metadata": {
        "colab": {
          "base_uri": "https://localhost:8080/"
        },
        "id": "8AU03smp99h4",
        "outputId": "95a1839a-3aad-4cd1-81d3-b995e221bb94"
      },
      "outputs": [
        {
          "output_type": "stream",
          "name": "stdout",
          "text": [
            "Files already downloaded and verified\n"
          ]
        }
      ],
      "source": [
        "transform = transforms.Compose(\n",
        "    [transforms.ToTensor(),\n",
        "     transforms.Normalize((0.5, 0.5, 0.5), (0.5, 0.5, 0.5))])\n",
        "\n",
        "trainset = torchvision.datasets.CIFAR100(root='./data', train=True,\n",
        "                                        download=True, transform=transform)\n",
        "trainloader = torch.utils.data.DataLoader(trainset, batch_size=5,\n",
        "                                          shuffle=True, num_workers=2)\n",
        "\n",
        "testset = torchvision.datasets.CIFAR100(root='./data', train=False,\n",
        "                                       download=False, transform=transform)\n",
        "testloader = torch.utils.data.DataLoader(testset, batch_size=4,\n",
        "                                         shuffle=False, num_workers=2)\n",
        "\n",
        "classes = ('apple', 'aquarium_fish', 'baby','bear', 'beaver','bed','bee','beetle','bicycle','bottle', 'bowl','boy','bridge', 'bus','butterfly', 'camel','can','castle','caterpillar','cattle',\n",
        " 'chair','chimpanzee','clock','cloud', 'cockroach','couch', 'cra','crocodile', 'cup','dinosaur','dolphin', 'elephant','flatfish', 'forest', 'fox','girl', 'hamster', 'house','kangaroo','keyboard',\n",
        "'lamp', 'lawn_mower', 'leopard', 'lion','lizard','lobster', 'man','maple_tree','motorcycle', 'mountain', 'mouse','mushroom','oak_tree', 'orange','orchid', 'otter', 'palm_tree','pear', 'pickup_truck','pine_tree',\n",
        "'plain', 'plate', 'poppy','porcupine','possum','rabbit','raccoon','ray','road','rocket','rose','sea', 'seal', 'shark','shrew', 'skunk','skyscraper', 'snail','snake','spider',\n",
        "'squirrel', 'streetcar', 'sunflower','sweet_pepper', 'table','tank','telephone', 'television', 'tiger','tractor','train','trout', 'tulip', 'turtle','wardrobe', 'whale', 'willow_tree','wolf', 'woman','worm')"
      ]
    },
    {
      "cell_type": "markdown",
      "metadata": {
        "id": "qvNbVoMh99h5"
      },
      "source": [
        "####  **` Q1.1: test dataloader and show the images of each class  of CIFAR-100 (3-pts)`**  \n",
        "You need to run and modify the given code and **show** the example images of CIFAR-100, **describe** the classes and images of CIFAR-100. (Please visualize at least one picture for the classes of labels from 0 to 4.) (3-*pts*)"
      ]
    },
    {
      "cell_type": "code",
      "execution_count": 3,
      "metadata": {
        "id": "7hhMU6z999h6"
      },
      "outputs": [],
      "source": [
        "def imshow(img):\n",
        "    img = img / 2 + 0.5     # unnormalize\n",
        "    npimg = img.numpy()\n",
        "    print(npimg.shape)\n",
        "    plt.imshow(np.transpose(npimg, (1, 2, 0)))\n",
        "    plt.show()"
      ]
    },
    {
      "cell_type": "code",
      "execution_count": 4,
      "metadata": {
        "colab": {
          "base_uri": "https://localhost:8080/",
          "height": 157
        },
        "id": "7iPwTYDB99h7",
        "outputId": "6275ddc2-7b04-441f-b66c-7baa0333d31a"
      },
      "outputs": [
        {
          "output_type": "stream",
          "name": "stdout",
          "text": [
            "(3, 36, 172)\n"
          ]
        },
        {
          "output_type": "display_data",
          "data": {
            "text/plain": [
              "<Figure size 432x288 with 1 Axes>"
            ],
            "image/png": "[encoded data removed]"
          },
          "metadata": {
            "needs_background": "light"
          }
        },
        {
          "output_type": "stream",
          "name": "stdout",
          "text": [
            "chair mountain mouse skyscraper poppy\n"
          ]
        }
      ],
      "source": [
        "# get some random training images\n",
        "dataiter = iter(trainloader)\n",
        "images, labels = dataiter.next()\n",
        "\n",
        "# show images\n",
        "imshow(torchvision.utils.make_grid(images))\n",
        "# print labels\n",
        "print(' '.join('%5s' % classes[labels[j]] for j in range(5)))"
      ]
    },
    {
      "cell_type": "markdown",
      "metadata": {
        "id": "DZ6OkCV9LIM9"
      },
      "source": [
        "### 1.2 Architecture understanding\n",
        "\n",
        "In this section, we provide two wrapped classes of architectures defined by *nn.Module*. One is an ordinary two-layer network (*TwolayerNet*) with fully connected layers and ReLu, and the other is a Convolutional Network (*ConvNet*) utilizing the structure of [LeNet-5](https://ieeexplore.ieee.org/document/726791)."
      ]
    },
    {
      "cell_type": "markdown",
      "metadata": {
        "id": "w6a1z2vK99h7"
      },
      "source": [
        "####  **`Q1.2: Architecture understanding. Implement architecture of TwolayerNet and ConvNet (4-pts).`**\n",
        "1. Complement the architecture of *TwolayerNet* class, and complement the architecture of *ConvNet* class using the structure of LeNet-5. (2-*pts*)\n",
        "2. Since you need to feed color images into these two networks, what's the kernel size of the first convolutional layer in *ConvNet*? and how many trainable parameters are there in \"F6\" layer (given the calculation process)? (2-*pts*)"
      ]
    },
    {
      "cell_type": "code",
      "execution_count": 5,
      "metadata": {
        "id": "ILrfnDDv99h8"
      },
      "outputs": [],
      "source": [
        "class TwolayerNet(nn.Module):\n",
        "    # assign layer objects to class attributes\n",
        "    # nn.init package contains convenient initialization methods\n",
        "    # http://pytorch.org/docs/master/nn.html#torch-nn-init\n",
        "    def __init__(self, input_size, hidden_size, num_classes):\n",
        "        super(TwolayerNet, self).__init__()\n",
        "        '''\n",
        "        :param input_size: 3*32*32\n",
        "        :param hidden_size: \n",
        "        :param num_classes: \n",
        "        '''\n",
        "        self.fc1 = nn.Linear(input_size, hidden_size)\n",
        "        self.fc2 = nn.Linear(hidden_size, num_classes)\n",
        "        \n",
        "        \n",
        "    def forward(self, x):\n",
        "        x = x.view(x.shape[0], -1)\n",
        "        x = self.fc2(F.relu(self.fc1(x)))\n",
        "        return x\n",
        "\n",
        "# net = TwolayerNet(32 * 32 * 3, 500, 100)"
      ]
    },
    {
      "cell_type": "code",
      "execution_count": 6,
      "metadata": {
        "id": "5E2a9-lz99h8"
      },
      "outputs": [],
      "source": [
        "class ConvNet(nn.Module):\n",
        "    # Complete the code using LeNet-5\n",
        "    # reference: https://ieeexplore.ieee.org/document/726791\n",
        "    def __init__(self, input_size, num_classes):\n",
        "        super(ConvNet, self).__init__()\n",
        "        self.layer1 = nn.Sequential(\n",
        "            nn.Conv2d(3, 6, 5, 1),\n",
        "            nn.Tanh(),\n",
        "            nn.AvgPool2d(2),\n",
        "            nn.Conv2d(6, 16, 5, 1),\n",
        "            nn.Tanh(),\n",
        "            nn.AvgPool2d(2),\n",
        "            nn.Conv2d(16, 120, 5, 1),\n",
        "            nn.Tanh(),\n",
        "        )\n",
        "        self.layer2 = nn.Sequential(\n",
        "            nn.Linear(120, 110),\n",
        "            nn.ReLU(),\n",
        "            nn.Linear(110, 100),\n",
        "        )\n",
        "        \n",
        "    def forward(self,x):\n",
        "        x = self.layer1(x)\n",
        "        x = x.view(x.shape[0], -1)\n",
        "        x = self.layer2(x)\n",
        "        return F.log_softmax(x, dim=1)"
      ]
    },
    {
      "cell_type": "markdown",
      "metadata": {
        "id": "aCP1tS7lL8hF"
      },
      "source": [
        "### 1.3 Preparation of training\n",
        "\n",
        "In above section, we use the *CIFAR-100* dataset class from *torchvision.utils* provided by PyTorch. Whereas in most cases, you need to prepare the dataset yourself. One of the ways is to create a *dataset* class yourself and then use the *DataLoader* to make it iterable. After preparing the training and testing data, you also need to define the transform function for data augmentation and optimizer for parameter updating. "
      ]
    },
    {
      "cell_type": "markdown",
      "metadata": {
        "id": "1oyc8Ksd99h-"
      },
      "source": [
        "####  **` Q1.3: Preparation of training. Create Dataloader yourself and define Transform, optimizer.(8-pts)`**  \n",
        "1. Complement the *CIFAR100\\_loader* (2-pts)\n",
        "2. Complement *Transform* function and *Optimizer* (2-pts)\n",
        "3. Train the *TwolayerNet* and *ConvNet* with *CIFAR100\\_loader*, *Transform* and *Optimizer* you implemented and compare the results (4-pts)"
      ]
    },
    {
      "cell_type": "markdown",
      "metadata": {
        "id": "QkImoAsU99h-"
      },
      "source": [
        "##### *` Complement  CIFAR100_loader()(2-pts)`*"
      ]
    },
    {
      "cell_type": "code",
      "execution_count": 7,
      "metadata": {
        "id": "G9Za4VSP99h_"
      },
      "outputs": [],
      "source": [
        "###  suggested reference: https://pytorch.org/tutorials/\n",
        "# recipes/recipes/custom_dataset_transforms_loader.html?highlight=dataloader\n",
        "# functions to show an image\n",
        "\n",
        "class CIFAR100_loader(Dataset):\n",
        "    def __init__(self, root, train=True, transform=None):\n",
        "        self.root = root\n",
        "        self.train = train\n",
        "        self.transform = transform\n",
        "        \n",
        "        with open(self.root, \"rb\") as f:\n",
        "            entry = pickle.load(f, encoding=\"latin1\")\n",
        "            \n",
        "        self.data = []\n",
        "\n",
        "        for data, fine_labels in zip(entry['data'], entry['fine_labels']):\n",
        "            img = np.transpose( data.reshape(3, 32, 32) , (1, 2, 0) )\n",
        "            label = fine_labels\n",
        "            self.data.append((img, label))\n",
        "\n",
        "    def __len__(self):\n",
        "        return len(self.data)\n",
        "\n",
        "    def __getitem__(self, item):\n",
        "        img, label = self.data[item] \n",
        "        if self.transform:\n",
        "            img = Image.fromarray(img)\n",
        "            img = self.transform(img)\n",
        "        return img, label"
      ]
    },
    {
      "cell_type": "markdown",
      "metadata": {
        "id": "mYKtNWW_99h_"
      },
      "source": [
        "##### *` Complement Transform function and Optimizer (2-pts)`*"
      ]
    },
    {
      "cell_type": "code",
      "execution_count": 8,
      "metadata": {
        "id": "yWJ6ac9kppvt"
      },
      "outputs": [],
      "source": [
        "transform_train = transforms.Compose([\n",
        "        transforms.ToTensor(),\n",
        "        transforms.Normalize([0.485, 0.456, 0.406], [0.229, 0.224, 0.225])\n",
        "    ])\n",
        "\n",
        "transform_test = transforms.Compose([\n",
        "        transforms.ToTensor(),\n",
        "        transforms.Normalize([0.485, 0.456, 0.406], [0.229, 0.224, 0.225])\n",
        "    ])\n",
        "\n",
        "\n",
        "# optimizer =\n",
        "# defining the optimiser here doesnt make sense. Since, we need the network parameters and both the networks \n",
        "# are not initialized we can not use the their parameters (yet) therefore we complement the optimizer in the train function"
      ]
    },
    {
      "cell_type": "code",
      "execution_count": 9,
      "metadata": {
        "id": "e7Xau9Mvppvt"
      },
      "outputs": [],
      "source": [
        "trainloader = DataLoader(\n",
        "    CIFAR100_loader(\"data/cifar-100-python/train\", \n",
        "                    transform=transform_train), \n",
        "    batch_size=5,\n",
        "    shuffle=True\n",
        ")\n",
        "\n",
        "testloader = DataLoader(\n",
        "    CIFAR100_loader(\"data/cifar-100-python/test\", \n",
        "                    transform=transform_test), \n",
        "    batch_size=5,\n",
        "    shuffle=True\n",
        ")"
      ]
    },
    {
      "cell_type": "markdown",
      "metadata": {
        "id": "EYpJN5Cb99h_"
      },
      "source": [
        "##### *` Train the TwolayerNet and ConvNet with CIFAR100_loader, transform and optimizer you implemented and compare the results (4-pts)`*"
      ]
    },
    {
      "cell_type": "code",
      "execution_count": 10,
      "metadata": {
        "id": "7FBozCDk99h-"
      },
      "outputs": [],
      "source": [
        "def valid(net, testloader):\n",
        "    device = torch.device('cuda' if torch.cuda.is_available() else 'cpu')\n",
        "    correct = 0\n",
        "    total = 0\n",
        "    with torch.no_grad():\n",
        "        for data in testloader:\n",
        "            images, labels = data\n",
        "            images = images.to(device)\n",
        "            labels = labels.to(device)\n",
        "            outputs = net(images)\n",
        "            _, predicted = torch.max(outputs.data, 1)\n",
        "            total += labels.size(0)\n",
        "            correct += (predicted == labels).sum().item()\n",
        "\n",
        "    print('Accuracy of the network on the 10000 test images: %d %%' % (\n",
        "            100 * correct / total))"
      ]
    },
    {
      "cell_type": "code",
      "execution_count": 11,
      "metadata": {
        "id": "zm7FuYwJ99h-"
      },
      "outputs": [],
      "source": [
        "def valid_class(net, testloader, classes):\n",
        "    class_correct = list(0. for i in range(len(classes)))\n",
        "    class_total = list(0. for i in range(len(classes)))\n",
        "    with torch.no_grad():\n",
        "        for data in testloader:\n",
        "            images, labels = data\n",
        "            outputs = net(images)\n",
        "            _, predicted = torch.max(outputs, 1)\n",
        "            c = (predicted == labels).squeeze()\n",
        "            for i in range(len(labels)):\n",
        "                label = labels[i]\n",
        "                class_correct[label] += c[i].item()\n",
        "                class_total[label] += 1\n",
        "\n",
        "    for i in range(len(classes)):\n",
        "        print('Accuracy of %5s : %2d %%' % (\n",
        "            classes[i], 100 * class_correct[i] / class_total[i]))"
      ]
    },
    {
      "cell_type": "code",
      "execution_count": 12,
      "metadata": {
        "id": "hNwBZvfX99h_"
      },
      "outputs": [],
      "source": [
        "def train(net, trainloader, testloader, epoch=1):\n",
        "    accuracy_loss_dict = defaultdict(list)\n",
        "    equal = \"=\"\n",
        "    minus = \"-\"\n",
        "    device = torch.device('cuda' if torch.cuda.is_available() else 'cpu')\n",
        "    device_name = torch.cuda.get_device_name(0) if str(device) == 'cuda' else device\n",
        "    print(f\"using {device_name} to train\")\n",
        "    net.to(device)\n",
        "    \n",
        "    # Define Loss function and optimizer\n",
        "    criterion = nn.CrossEntropyLoss()\n",
        "    optimizer = optim.Adam(net.parameters(), lr=0.001)\n",
        "\n",
        "    # Training\n",
        "    for epoch in range(epoch):  # loop over the dataset multiple times\n",
        "        net.train()\n",
        "        current_loss_train = 0.0\n",
        "        print(f\"epoch {epoch + 1}\")\n",
        "        for i, (images, labels) in enumerate(trainloader, 0):\n",
        "            images = images.to(device)\n",
        "            labels = labels.to(device)\n",
        "            optimizer.zero_grad()\n",
        "            outputs = net(images)\n",
        "            loss = criterion(outputs, labels)\n",
        "            loss.backward()\n",
        "            optimizer.step()\n",
        "\n",
        "            # print statistics\n",
        "            current_loss_train += loss.item()\n",
        "        \n",
        "            \n",
        "            if i % (len(trainloader) // 10) == 0 and i != 0:\n",
        "                tmp = int(i / len(trainloader) * 10)\n",
        "                print(f\"{equal * tmp * 2 + minus * (10 - tmp) * 2}> \\t loss = {current_loss_train / (i + 1)}\")\n",
        "        \n",
        "        print(f\"{equal * 20}> \\t loss = {current_loss_train / (i + 1)}\")\n",
        "        \n",
        "        # measuring (first on the trainset and then on the testset):\n",
        "        #   trainset\n",
        "        net.eval()\n",
        "        current_loss_train = 0.0\n",
        "        correct_train = 0\n",
        "        total_train = 0\n",
        "        with torch.no_grad():\n",
        "            for j, (images, labels) in enumerate(trainloader, 0):\n",
        "                if j == 10_000:\n",
        "                    break\n",
        "                images = images.to(device)\n",
        "                labels = labels.to(device)\n",
        "                outputs = net(images)\n",
        "                loss = criterion(outputs, labels)\n",
        "                current_loss_train += loss.item()\n",
        "\n",
        "                _, predicted = torch.max(outputs.data, 1)\n",
        "                total_train += labels.size(0)\n",
        "                correct_train += (predicted == labels).sum().item()\n",
        "\n",
        "        accuracy_loss_dict['acc-train'].append(correct_train / total_train)\n",
        "        accuracy_loss_dict['loss-train'].append(current_loss_train / (j + 1))\n",
        "\n",
        "        print('Accuracy trainset: %d %%' % (\n",
        "                100 * correct_train / total_train), end=\" - \")\n",
        "        print(f\"loss trainset= {current_loss_train / (j + 1)}\", end=\" - \")\n",
        "\n",
        "        \n",
        "        #   testset\n",
        "        correct_test = 0\n",
        "        total_test = 0\n",
        "        current_loss_test = 0\n",
        "        with torch.no_grad():\n",
        "            for k, data in enumerate(testloader):\n",
        "                images, labels = data\n",
        "                images = images.to(device)\n",
        "                labels = labels.to(device)\n",
        "                outputs = net(images)\n",
        "                loss = criterion(outputs, labels)\n",
        "                current_loss_test += loss.item()\n",
        "                _, predicted = torch.max(outputs.data, 1)\n",
        "                total_test += labels.size(0)\n",
        "                correct_test += (predicted == labels).sum().item()\n",
        "                \n",
        "        accuracy_loss_dict['acc-test'].append(correct_test / total_test)\n",
        "        accuracy_loss_dict['loss-test'].append(current_loss_test / (k + 1))\n",
        "\n",
        "        print('Accuracy testset: %d %%' % (\n",
        "                100 * correct_test / total_test), end=\" - \")\n",
        "        print(f\"loss testset= {current_loss_test / (k + 1)}\")\n",
        "        \n",
        "\n",
        "    print('Finished Training')\n",
        "    return accuracy_loss_dict"
      ]
    },
    {
      "cell_type": "markdown",
      "metadata": {
        "id": "wxfxa_Rj8X5z"
      },
      "source": [
        "*train TwolayerNet*"
      ]
    },
    {
      "cell_type": "code",
      "execution_count": 13,
      "metadata": {
        "id": "rd3ql4B27yEl",
        "scrolled": true,
        "colab": {
          "base_uri": "https://localhost:8080/"
        },
        "outputId": "d958b600-f8e0-4f24-a2b5-ac2ba13ff59d"
      },
      "outputs": [
        {
          "output_type": "stream",
          "name": "stdout",
          "text": [
            "using Tesla T4 to train\n",
            "epoch 1\n",
            "==------------------> \t loss = 7.525348809096482\n",
            "====----------------> \t loss = 7.200259131827633\n",
            "======--------------> \t loss = 6.96099670495005\n",
            "========------------> \t loss = 6.85984475417186\n",
            "==========----------> \t loss = 6.804590320782622\n",
            "============--------> \t loss = 6.761788433828944\n",
            "==============------> \t loss = 6.743388719421475\n",
            "================----> \t loss = 6.713767449455907\n",
            "==================--> \t loss = 6.695383593203319\n",
            "====================> \t loss = 6.665262455481291\n",
            "Accuracy trainset: 9 % - loss trainset= 6.949756865620613 - Accuracy testset: 7 % - loss testset= 7.316360147476196\n",
            "epoch 2\n",
            "==------------------> \t loss = 6.208214144963961\n",
            "====----------------> \t loss = 6.310623480700541\n",
            "======--------------> \t loss = 6.326507448196729\n",
            "========------------> \t loss = 6.316160944425234\n",
            "==========----------> \t loss = 6.332867052192284\n",
            "============--------> \t loss = 6.338212477388113\n",
            "==============------> \t loss = 6.3402737030181315\n",
            "================----> \t loss = 6.316194358773119\n",
            "==================--> \t loss = 6.294812379870305\n",
            "====================> \t loss = 6.272839938521385\n",
            "Accuracy trainset: 11 % - loss trainset= 6.490449200588465 - Accuracy testset: 9 % - loss testset= 7.007364898741245\n",
            "epoch 3\n",
            "==------------------> \t loss = 5.963054963044234\n",
            "====----------------> \t loss = 6.061420757850368\n",
            "======--------------> \t loss = 6.017413589565884\n",
            "========------------> \t loss = 6.022293174037395\n",
            "==========----------> \t loss = 6.046506818569415\n",
            "============--------> \t loss = 6.05501638198173\n",
            "==============------> \t loss = 6.035085635702195\n",
            "================----> \t loss = 6.012323961438514\n",
            "==================--> \t loss = 6.0043798771292325\n",
            "====================> \t loss = 5.9969262187242505\n",
            "Accuracy trainset: 12 % - loss trainset= 5.624176852333545 - Accuracy testset: 10 % - loss testset= 6.123822918236256\n",
            "epoch 4\n",
            "==------------------> \t loss = 5.651491348262314\n",
            "====----------------> \t loss = 5.7067670060479\n",
            "======--------------> \t loss = 5.793922027819398\n",
            "========------------> \t loss = 5.76104534484243\n",
            "==========----------> \t loss = 5.820915397477851\n",
            "============--------> \t loss = 5.7992629180191315\n",
            "==============------> \t loss = 5.817378739589726\n",
            "================----> \t loss = 5.832974539065626\n",
            "==================--> \t loss = 5.829627588906165\n",
            "====================> \t loss = 5.824579058045149\n",
            "Accuracy trainset: 13 % - loss trainset= 5.280776354932785 - Accuracy testset: 10 % - loss testset= 5.834551438450814\n",
            "epoch 5\n",
            "==------------------> \t loss = 5.423328319510499\n",
            "====----------------> \t loss = 5.55285754387287\n",
            "======--------------> \t loss = 5.577030547099763\n",
            "========------------> \t loss = 5.6243952464771345\n",
            "==========----------> \t loss = 5.6524987459135065\n",
            "============--------> \t loss = 5.649023036880505\n",
            "==============------> \t loss = 5.658449194257965\n",
            "================----> \t loss = 5.6479155776679795\n",
            "==================--> \t loss = 5.639518703199627\n",
            "====================> \t loss = 5.639573143267632\n",
            "Accuracy trainset: 14 % - loss trainset= 5.178494769203663 - Accuracy testset: 10 % - loss testset= 5.851556429088116\n",
            "epoch 6\n",
            "==------------------> \t loss = 5.438768097689817\n",
            "====----------------> \t loss = 5.446462306483038\n",
            "======--------------> \t loss = 5.501824078381915\n",
            "========------------> \t loss = 5.493991627391652\n",
            "==========----------> \t loss = 5.510320428489948\n",
            "============--------> \t loss = 5.501480665331661\n",
            "==============------> \t loss = 5.4999980977085245\n",
            "================----> \t loss = 5.484092285537433\n",
            "==================--> \t loss = 5.4900300381859335\n",
            "====================> \t loss = 5.489737288451194\n",
            "Accuracy trainset: 13 % - loss trainset= 5.5340293064951895 - Accuracy testset: 10 % - loss testset= 6.3193729014396665\n",
            "epoch 7\n",
            "==------------------> \t loss = 5.30684957643608\n",
            "====----------------> \t loss = 5.335050021243775\n",
            "======--------------> \t loss = 5.357093612240458\n",
            "========------------> \t loss = 5.403356674685236\n",
            "==========----------> \t loss = 5.418375660731444\n",
            "============--------> \t loss = 5.42373177488135\n",
            "==============------> \t loss = 5.422722904422661\n",
            "================----> \t loss = 5.433389933023464\n",
            "==================--> \t loss = 5.425611723271916\n",
            "====================> \t loss = 5.4114876968204975\n",
            "Accuracy trainset: 16 % - loss trainset= 4.561229321581125 - Accuracy testset: 11 % - loss testset= 5.359836571455002\n",
            "epoch 8\n",
            "==------------------> \t loss = 5.106013733071166\n",
            "====----------------> \t loss = 5.217665049983286\n",
            "======--------------> \t loss = 5.204668580810454\n",
            "========------------> \t loss = 5.220691462347907\n",
            "==========----------> \t loss = 5.235538191841593\n",
            "============--------> \t loss = 5.248229125969967\n",
            "==============------> \t loss = 5.243697939345094\n",
            "================----> \t loss = 5.26906395745924\n",
            "==================--> \t loss = 5.299279827016576\n",
            "====================> \t loss = 5.309246719092131\n",
            "Accuracy trainset: 16 % - loss trainset= 4.584825796455145 - Accuracy testset: 11 % - loss testset= 5.4254151781201365\n",
            "epoch 9\n",
            "==------------------> \t loss = 4.886056000774318\n",
            "====----------------> \t loss = 5.034951462619368\n",
            "======--------------> \t loss = 5.097898493683843\n",
            "========------------> \t loss = 5.194332290011565\n",
            "==========----------> \t loss = 5.170185720663122\n",
            "============--------> \t loss = 5.161097340048641\n",
            "==============------> \t loss = 5.171373192803585\n",
            "================----> \t loss = 5.177278163827609\n",
            "==================--> \t loss = 5.171265724453313\n",
            "====================> \t loss = 5.18813100913167\n",
            "Accuracy trainset: 16 % - loss trainset= 4.796780405589939 - Accuracy testset: 11 % - loss testset= 5.748300555348396\n",
            "epoch 10\n",
            "==------------------> \t loss = 4.900669319169981\n",
            "====----------------> \t loss = 4.903155817382637\n",
            "======--------------> \t loss = 5.013194851341425\n",
            "========------------> \t loss = 5.0530193161440025\n",
            "==========----------> \t loss = 5.078701940221182\n",
            "============--------> \t loss = 5.087455783331718\n",
            "==============------> \t loss = 5.110139836832176\n",
            "================----> \t loss = 5.133047297803659\n",
            "==================--> \t loss = 5.142446225496839\n",
            "====================> \t loss = 5.149501325649023\n",
            "Accuracy trainset: 16 % - loss trainset= 4.68560584949255 - Accuracy testset: 11 % - loss testset= 5.608978912651539\n",
            "Finished Training\n"
          ]
        }
      ],
      "source": [
        "Tnet = TwolayerNet(32 * 32 * 3, 500, 100)\n",
        "\n",
        "Tnet_info = train(Tnet, trainloader, testloader, 10)"
      ]
    },
    {
      "cell_type": "code",
      "execution_count": 14,
      "metadata": {
        "colab": {
          "base_uri": "https://localhost:8080/",
          "height": 279
        },
        "id": "Az_kcgJUppvv",
        "outputId": "4945317c-79fd-4c28-bf2c-f4e2261bbcf2"
      },
      "outputs": [
        {
          "output_type": "display_data",
          "data": {
            "text/plain": [
              "<Figure size 432x288 with 1 Axes>"
            ],
            "image/png": "[encoded data removed]"
          },
          "metadata": {
            "needs_background": "light"
          }
        }
      ],
      "source": [
        "plt.plot(Tnet_info['acc-train'], label = \"acc trainset\")\n",
        "plt.plot(Tnet_info['acc-test'], label = \"acc testset\")\n",
        "plt.plot(np.array(Tnet_info['loss-train']) / max(Tnet_info['loss-train'], Tnet_info['loss-test']), label = \"loss trainset\")\n",
        "plt.plot(np.array(Tnet_info['loss-test']) / max(Tnet_info['loss-train'], Tnet_info['loss-test']), label=\"loss testset\")\n",
        "plt.xticks(np.arange(len(Tnet_info['acc-train'])))\n",
        "plt.xlabel('epoch')\n",
        "plt.legend()\n",
        "plt.show()"
      ]
    },
    {
      "cell_type": "markdown",
      "metadata": {
        "id": "GySb8UWX8emz"
      },
      "source": [
        "*train ConvNet*"
      ]
    },
    {
      "cell_type": "code",
      "execution_count": 16,
      "metadata": {
        "id": "4JL9by9A7yQb",
        "scrolled": false,
        "colab": {
          "base_uri": "https://localhost:8080/"
        },
        "outputId": "a9beea19-3d3b-4b0e-e73c-41975a628a66"
      },
      "outputs": [
        {
          "output_type": "stream",
          "name": "stdout",
          "text": [
            "using Tesla T4 to train\n",
            "epoch 1\n",
            "==------------------> \t loss = 4.2905004393685235\n",
            "====----------------> \t loss = 4.14442811853465\n",
            "======--------------> \t loss = 4.049869500887628\n",
            "========------------> \t loss = 3.974207259183882\n",
            "==========----------> \t loss = 3.9200696796208616\n",
            "============--------> \t loss = 3.872084244253873\n",
            "==============------> \t loss = 3.838060110709511\n",
            "================----> \t loss = 3.8058717977015797\n",
            "==================--> \t loss = 3.780532744351711\n",
            "====================> \t loss = 3.7553720878362657\n",
            "Accuracy trainset: 18 % - loss trainset= 3.4304796393036843 - Accuracy testset: 16 % - loss testset= 3.5258304642438887\n",
            "epoch 2\n",
            "==------------------> \t loss = 3.4674324497476325\n",
            "====----------------> \t loss = 3.446289557924514\n",
            "======--------------> \t loss = 3.4350289210841005\n",
            "========------------> \t loss = 3.4265373506953614\n",
            "==========----------> \t loss = 3.4285920249822257\n",
            "============--------> \t loss = 3.430639738580462\n",
            "==============------> \t loss = 3.430452304471477\n",
            "================----> \t loss = 3.430773632837197\n",
            "==================--> \t loss = 3.4322073192228784\n",
            "====================> \t loss = 3.4283923430800436\n",
            "Accuracy trainset: 21 % - loss trainset= 3.255327461630106 - Accuracy testset: 19 % - loss testset= 3.404658193707466\n",
            "epoch 3\n",
            "==------------------> \t loss = 3.331724542599696\n",
            "====----------------> \t loss = 3.3326283340630445\n",
            "======--------------> \t loss = 3.342782140036338\n",
            "========------------> \t loss = 3.3373416410598478\n",
            "==========----------> \t loss = 3.334272470254465\n",
            "============--------> \t loss = 3.3329215030971318\n",
            "==============------> \t loss = 3.3313692843823786\n",
            "================----> \t loss = 3.3307919071743064\n",
            "==================--> \t loss = 3.3327428182023535\n",
            "====================> \t loss = 3.335464649039507\n",
            "Accuracy trainset: 21 % - loss trainset= 3.223886383923888 - Accuracy testset: 18 % - loss testset= 3.4106318814754486\n",
            "epoch 4\n",
            "==------------------> \t loss = 3.2281015308705956\n",
            "====----------------> \t loss = 3.232532749409559\n",
            "======--------------> \t loss = 3.2345435928003425\n",
            "========------------> \t loss = 3.2443967950519874\n",
            "==========----------> \t loss = 3.2542153170551686\n",
            "============--------> \t loss = 3.259261654299749\n",
            "==============------> \t loss = 3.2617112380183606\n",
            "================----> \t loss = 3.269332666968334\n",
            "==================--> \t loss = 3.2716160596986437\n",
            "====================> \t loss = 3.2733599658548833\n",
            "Accuracy trainset: 22 % - loss trainset= 3.1695770368754865 - Accuracy testset: 20 % - loss testset= 3.4083446545600893\n",
            "epoch 5\n",
            "==------------------> \t loss = 3.1704982859450026\n",
            "====----------------> \t loss = 3.1652028901257676\n",
            "======--------------> \t loss = 3.175814922383848\n",
            "========------------> \t loss = 3.1873618339529872\n",
            "==========----------> \t loss = 3.1864073799207575\n",
            "============--------> \t loss = 3.197850191673623\n",
            "==============------> \t loss = 3.204456525991651\n",
            "================----> \t loss = 3.213111191123832\n",
            "==================--> \t loss = 3.2237464759485177\n",
            "====================> \t loss = 3.2278759412646294\n",
            "Accuracy trainset: 23 % - loss trainset= 3.1130586011230945 - Accuracy testset: 19 % - loss testset= 3.391045152962208\n",
            "epoch 6\n",
            "==------------------> \t loss = 3.1622966570811313\n",
            "====----------------> \t loss = 3.1628772834728265\n",
            "======--------------> \t loss = 3.1626559918977866\n",
            "========------------> \t loss = 3.1765686168994822\n",
            "==========----------> \t loss = 3.181735944352229\n",
            "============--------> \t loss = 3.18476729194555\n",
            "==============------> \t loss = 3.1855001802138645\n",
            "================----> \t loss = 3.192476084561307\n",
            "==================--> \t loss = 3.1956756449172183\n",
            "====================> \t loss = 3.198388009780645\n",
            "Accuracy trainset: 23 % - loss trainset= 3.080496411025524 - Accuracy testset: 20 % - loss testset= 3.379146415889263\n",
            "epoch 7\n",
            "==------------------> \t loss = 3.1208178463515703\n",
            "====----------------> \t loss = 3.1335946617574466\n",
            "======--------------> \t loss = 3.142044550734574\n",
            "========------------> \t loss = 3.1476542432437506\n",
            "==========----------> \t loss = 3.1470169421554304\n",
            "============--------> \t loss = 3.148029998846202\n",
            "==============------> \t loss = 3.1561308865240005\n",
            "================----> \t loss = 3.170494998101815\n",
            "==================--> \t loss = 3.170623591165783\n",
            "====================> \t loss = 3.1729700501680376\n",
            "Accuracy trainset: 24 % - loss trainset= 3.033586186140776 - Accuracy testset: 19 % - loss testset= 3.3814612018465997\n",
            "epoch 8\n",
            "==------------------> \t loss = 3.0759381435729645\n",
            "====----------------> \t loss = 3.081335092889613\n",
            "======--------------> \t loss = 3.1128260348884713\n",
            "========------------> \t loss = 3.1245764026162743\n",
            "==========----------> \t loss = 3.126269024554502\n",
            "============--------> \t loss = 3.144957987075447\n",
            "==============------> \t loss = 3.149858049930223\n",
            "================----> \t loss = 3.1552374676575794\n",
            "==================--> \t loss = 3.1580980453023964\n",
            "====================> \t loss = 3.1624752412438393\n",
            "Accuracy trainset: 25 % - loss trainset= 3.0083619210779666 - Accuracy testset: 20 % - loss testset= 3.386816206604242\n",
            "epoch 9\n",
            "==------------------> \t loss = 3.1095881228084927\n",
            "====----------------> \t loss = 3.1052358053970908\n",
            "======--------------> \t loss = 3.115713550860943\n",
            "========------------> \t loss = 3.1259336807643794\n",
            "==========----------> \t loss = 3.1329030547230703\n",
            "============--------> \t loss = 3.1391180579691325\n",
            "==============------> \t loss = 3.1418515142756283\n",
            "================----> \t loss = 3.1413449040205386\n",
            "==================--> \t loss = 3.141078076578752\n",
            "====================> \t loss = 3.145537256383896\n",
            "Accuracy trainset: 25 % - loss trainset= 3.0227970646321776 - Accuracy testset: 21 % - loss testset= 3.411307989060879\n",
            "epoch 10\n",
            "==------------------> \t loss = 3.024089015863992\n",
            "====----------------> \t loss = 3.0456848162999455\n",
            "======--------------> \t loss = 3.0536006324412783\n",
            "========------------> \t loss = 3.0741253214101736\n",
            "==========----------> \t loss = 3.080569675793006\n",
            "============--------> \t loss = 3.094477393650607\n",
            "==============------> \t loss = 3.105291427365202\n",
            "================----> \t loss = 3.1181751009136898\n",
            "==================--> \t loss = 3.130560862052548\n",
            "====================> \t loss = 3.136583541727066\n",
            "Accuracy trainset: 24 % - loss trainset= 3.0481220789313315 - Accuracy testset: 20 % - loss testset= 3.4506357346475123\n",
            "Finished Training\n"
          ]
        }
      ],
      "source": [
        "Cnet = ConvNet(32 * 32 * 3, 100)\n",
        "\n",
        "Cnet_info = train(Cnet, trainloader, testloader, 10)"
      ]
    },
    {
      "cell_type": "code",
      "execution_count": 17,
      "metadata": {
        "colab": {
          "base_uri": "https://localhost:8080/",
          "height": 279
        },
        "id": "txdeVXsUppvv",
        "outputId": "3b7f053d-6d04-4245-b67f-c09a60879ca1"
      },
      "outputs": [
        {
          "output_type": "display_data",
          "data": {
            "text/plain": [
              "<Figure size 432x288 with 1 Axes>"
            ],
            "image/png": "[encoded data removed]"
          },
          "metadata": {
            "needs_background": "light"
          }
        }
      ],
      "source": [
        "plt.plot(Cnet_info['acc-train'], label = \"acc trainset\")\n",
        "plt.plot(Cnet_info['acc-test'], label = \"acc testset\")\n",
        "plt.plot(np.array(Cnet_info['loss-train']) / max(Cnet_info['loss-train'], Cnet_info['loss-test']), label = \"loss trainset\")\n",
        "plt.plot(np.array(Cnet_info['loss-test']) / max(Cnet_info['loss-train'], Cnet_info['loss-test']), label=\"loss testset\")\n",
        "plt.xticks(np.arange(len(Cnet_info['acc-train'])))\n",
        "plt.xlabel('epoch')\n",
        "plt.legend()\n",
        "plt.show()"
      ]
    },
    {
      "cell_type": "markdown",
      "metadata": {
        "id": "SQhUzRuQOOSm"
      },
      "source": [
        "### 1.4 Setting up the hyperparameters\n",
        "\n",
        "Some parameters must be set properly before the training of CNNs. These parameters shape the training procedure. They determine how many images are to be processed at each step, how much the weights of the network will be updated, how many iterations will the network run until convergence.  These parameters are called hyperparameters in the machine learning literature. "
      ]
    },
    {
      "cell_type": "markdown",
      "metadata": {
        "id": "mhtGVNHIQ8kT"
      },
      "source": [
        "####  **` Q1.4: Setting up the hyperparameters (10-pts)`**  \n",
        "\n",
        "1. Play with ConvNet and TwolayerNet yourself, set up the hyperparameters, and reach the accuracy as high as you can.\n",
        "You can modify the *train*,  *Dataloader*, *transform* and *Optimizer* function as you like. \n",
        "2. You can also modify the architectures of these two Nets. \n",
        "\n",
        " *Let's add 2 more layers in TwolayerNet and ConvNet, and show the results. (You can decide the size of these layers and where to add them.) Will you get higher performances? explain why.*\n",
        "3.  Show the final results and described what you've done to improve the results. Describe and explain the influence of hyperparameters among *TwolayerNet* and *ConvNet*.\n",
        "4. Compare and explain the differences of these two networks regarding the architecture, performances, and learning rates. \n",
        "\n",
        "**Hint:** You can adjust the following parameters and other parameters not listed as you like: *Learning rate, Batch size, Number of epochs, Optimizer, Transform function, Weight decay etc.* You can also change the structure a bit, for instance, adding Batch Normalization layers. Please do not use external well-defined networks and please do not add more than 3 additional (beyond the original network) convolutional layers."
      ]
    },
    {
      "cell_type": "markdown",
      "metadata": {
        "id": "p1Puiytn99h_"
      },
      "source": [
        "#### *`Play with convNet and TwolayerNet, set up the hyperparameters and reach the accuracy as high as you can`*"
      ]
    },
    {
      "cell_type": "code",
      "execution_count": null,
      "metadata": {
        "id": "ROyqHC0199iA"
      },
      "outputs": [],
      "source": [
        "################################\n",
        "# We've done this in the previous part.\n",
        "################################"
      ]
    },
    {
      "cell_type": "markdown",
      "metadata": {
        "id": "pqQ6-Krp99iA"
      },
      "source": [
        "#### *` test the accuracy of ConvNet `*"
      ]
    },
    {
      "cell_type": "code",
      "execution_count": 18,
      "metadata": {
        "id": "ciidRXDn99iA",
        "colab": {
          "base_uri": "https://localhost:8080/"
        },
        "outputId": "b8a7f52f-223b-4fd8-b02f-b9361ea580a8"
      },
      "outputs": [
        {
          "output_type": "stream",
          "name": "stdout",
          "text": [
            "Accuracy of the network on the 10000 test images: 20 %\n"
          ]
        }
      ],
      "source": [
        "valid(Cnet, testloader)"
      ]
    },
    {
      "cell_type": "markdown",
      "metadata": {
        "id": "mlAIR45199iA"
      },
      "source": [
        "#### *`test the accuracy of TwolayerNet`*"
      ]
    },
    {
      "cell_type": "code",
      "execution_count": 19,
      "metadata": {
        "id": "W2fMEW-g99iA",
        "colab": {
          "base_uri": "https://localhost:8080/"
        },
        "outputId": "7e56b8f5-2b1a-4440-bb85-ee687e47fc05"
      },
      "outputs": [
        {
          "output_type": "stream",
          "name": "stdout",
          "text": [
            "Accuracy of the network on the 10000 test images: 11 %\n"
          ]
        }
      ],
      "source": [
        "valid(Tnet, testloader)"
      ]
    },
    {
      "cell_type": "markdown",
      "metadata": {
        "id": "3XX8c2fb99iA"
      },
      "source": [
        "## **Session 2:  Finetuning the ConvNet**\n",
        "### 2.1 STL-10 DATASET\n",
        "> The above networks are trained on CIFAR-100, which\n",
        "contains the images of 100 different object categories, each of which has $32\\times32 \\times3$ dimensions. \n",
        "The dataset we use throughout this session is a subset of [STL-10](https://cs.stanford.edu/~acoates/stl10/)\n",
        "with higher resolution and different object classes. So, there is a discrepancy between the previous dataset (CIFAR-100) and the new dataset (STL-10). One solution would be to train the whole network from scratch. However, the number of parameters is too large to be trained properly with such few images. Another way is to use the pre-trained network (on CIFAR-100) and then finetune the network on the new dataset (STL-10) (*e.g.*, use the same architectures in all layers except the output layer, as the number of output classes changes (from 100 to 5)).\n"
      ]
    },
    {
      "cell_type": "code",
      "execution_count": 20,
      "metadata": {
        "colab": {
          "base_uri": "https://localhost:8080/"
        },
        "id": "XR1xyOW_sib8",
        "outputId": "e4d9ed67-3676-4d77-dceb-207cd78f2a5c"
      },
      "outputs": [
        {
          "output_type": "stream",
          "name": "stdout",
          "text": [
            "sys.version_info(major=3, minor=7, micro=15, releaselevel='final', serial=0)\n"
          ]
        }
      ],
      "source": [
        "# Use the following codes if necessary\n",
        "# referenced codes: https://cs.stanford.edu/~acoates/stl10/\n",
        "\n",
        "from __future__ import print_function\n",
        "\n",
        "import sys\n",
        "import os, sys, tarfile, errno\n",
        "import numpy as np\n",
        "import matplotlib.pyplot as plt\n",
        "    \n",
        "if sys.version_info >= (3, 0, 0):\n",
        "    import urllib.request as urllib\n",
        "else:\n",
        "    import urllib\n",
        "\n",
        "try:\n",
        "    from imageio import imsave\n",
        "except:\n",
        "    from scipy.misc import imsave\n",
        "\n",
        "print(sys.version_info) \n",
        "\n",
        "# image shape\n",
        "HEIGHT = 96\n",
        "WIDTH = 96\n",
        "DEPTH = 3\n",
        "\n",
        "# size of a single image in bytes\n",
        "SIZE = HEIGHT * WIDTH * DEPTH\n",
        "\n",
        "# path to the directory with the data\n",
        "DATA_DIR = './data'\n",
        "\n",
        "# url of the binary data\n",
        "DATA_URL = 'http://ai.stanford.edu/~acoates/stl10/stl10_binary.tar.gz'\n",
        "\n",
        "# path to the binary train file with image data\n",
        "DATA_PATH = './data/stl10_binary/train_X.bin'\n",
        "\n",
        "# path to the binary train file with labels\n",
        "LABEL_PATH = './data/stl10_binary/train_y.bin'\n",
        "\n",
        "def read_labels(path_to_labels):\n",
        "    \"\"\"\n",
        "    :param path_to_labels: path to the binary file containing labels from the STL-10 dataset\n",
        "    :return: an array containing the labels\n",
        "    \"\"\"\n",
        "    with open(path_to_labels, 'rb') as f:\n",
        "        labels = np.fromfile(f, dtype=np.uint8)\n",
        "        return labels\n",
        "\n",
        "\n",
        "def read_all_images(path_to_data):\n",
        "    \"\"\"\n",
        "    :param path_to_data: the file containing the binary images from the STL-10 dataset\n",
        "    :return: an array containing all the images\n",
        "    \"\"\"\n",
        "\n",
        "    with open(path_to_data, 'rb') as f:\n",
        "        # read whole file in uint8 chunks\n",
        "        everything = np.fromfile(f, dtype=np.uint8)\n",
        "\n",
        "        # We force the data into 3x96x96 chunks, since the\n",
        "        # images are stored in \"column-major order\", meaning\n",
        "        # that \"the first 96*96 values are the red channel,\n",
        "        # the next 96*96 are green, and the last are blue.\"\n",
        "        # The -1 is since the size of the pictures depends\n",
        "        # on the input file, and this way numpy determines\n",
        "        # the size on its own.\n",
        "\n",
        "        images = np.reshape(everything, (-1, 3, 96, 96))\n",
        "\n",
        "        # Now transpose the images into a standard image format\n",
        "        # readable by, for example, matplotlib.imshow\n",
        "        # You might want to comment this line or reverse the shuffle\n",
        "        # if you will use a learning algorithm like CNN, since they like\n",
        "        # their channels separated.\n",
        "        images = np.transpose(images, (0, 3, 2, 1))\n",
        "        return images\n",
        "\n",
        "\n",
        "def read_single_image(image_file):\n",
        "    \"\"\"\n",
        "    CAREFUL! - this method uses a file as input instead of the path - so the\n",
        "    position of the reader will be remembered outside of context of this method.\n",
        "    :param image_file: the open file containing the images\n",
        "    :return: a single image\n",
        "    \"\"\"\n",
        "    # read a single image, count determines the number of uint8's to read\n",
        "    image = np.fromfile(image_file, dtype=np.uint8, count=SIZE)\n",
        "    # force into image matrix\n",
        "    image = np.reshape(image, (3, 96, 96))\n",
        "    # transpose to standard format\n",
        "    # You might want to comment this line or reverse the shuffle\n",
        "    # if you will use a learning algorithm like CNN, since they like\n",
        "    # their channels separated.\n",
        "    image = np.transpose(image, (2, 1, 0))\n",
        "    return image\n",
        "\n",
        "\n",
        "def plot_image(image):\n",
        "    \"\"\"\n",
        "    :param image: the image to be plotted in a 3-D matrix format\n",
        "    :return: None\n",
        "    \"\"\"\n",
        "    plt.imshow(image)\n",
        "    plt.show()\n",
        "\n",
        "def save_image(image, name):\n",
        "    imsave(\"%s.png\" % name, image, format=\"png\")\n",
        "\n",
        "def download_and_extract():\n",
        "    \"\"\"\n",
        "    Download and extract the STL-10 dataset\n",
        "    :return: None\n",
        "    \"\"\"\n",
        "    dest_directory = DATA_DIR\n",
        "    if not os.path.exists(dest_directory):\n",
        "        os.makedirs(dest_directory)\n",
        "    filename = DATA_URL.split('/')[-1]\n",
        "    filepath = os.path.join(dest_directory, filename)\n",
        "    if not os.path.exists(filepath):\n",
        "        def _progress(count, block_size, total_size):\n",
        "            sys.stdout.write('\\rDownloading %s %.2f%%' % (filename,\n",
        "                float(count * block_size) / float(total_size) * 100.0))\n",
        "            sys.stdout.flush()\n",
        "        filepath, _ = urllib.urlretrieve(DATA_URL, filepath, reporthook=_progress)\n",
        "        print('Downloaded', filename)\n",
        "        tarfile.open(filepath, 'r:gz').extractall(dest_directory)\n",
        "\n",
        "def save_images(images, labels):\n",
        "    print(\"Saving images to disk\")\n",
        "    i = 0\n",
        "    for image in images:\n",
        "        label = labels[i]\n",
        "        directory = './img/' + str(label) + '/'\n",
        "        try:\n",
        "            os.makedirs(directory, exist_ok=True)\n",
        "        except OSError as exc:\n",
        "            if exc.errno == errno.EEXIST:\n",
        "                pass\n",
        "        filename = directory + str(i)\n",
        "        print(filename)\n",
        "        save_image(image, filename)\n",
        "        i = i+1\n",
        "    "
      ]
    },
    {
      "cell_type": "code",
      "execution_count": 21,
      "metadata": {
        "colab": {
          "base_uri": "https://localhost:8080/",
          "height": 304
        },
        "id": "uU0aikuks2Lp",
        "outputId": "2afcf11b-4b9b-489f-c407-2e8b53e9015b"
      },
      "outputs": [
        {
          "output_type": "display_data",
          "data": {
            "text/plain": [
              "<Figure size 432x288 with 1 Axes>"
            ],
            "image/png": "[encoded data removed]"
          },
          "metadata": {
            "needs_background": "light"
          }
        },
        {
          "output_type": "stream",
          "name": "stdout",
          "text": [
            "(5000, 96, 96, 3)\n",
            "torch.Size([5])\n"
          ]
        }
      ],
      "source": [
        "\n",
        "# Use the following codes if necessary\n",
        "\n",
        "# download data if needed\n",
        "download_and_extract()\n",
        "\n",
        "# # test to check if the image is read correctly\n",
        "with open(DATA_PATH) as f:\n",
        "    image = read_single_image(f)\n",
        "    plot_image(image)\n",
        "\n",
        "# # test to check if the whole dataset is read correctly\n",
        "images = read_all_images(DATA_PATH)\n",
        "print(images.shape)\n",
        "\n",
        "# labels = read_labels(LABEL_PATH)\n",
        "print(labels.shape)\n",
        "\n",
        "# # save images to disk\n",
        "# save_images(images, labels)"
      ]
    },
    {
      "cell_type": "markdown",
      "metadata": {
        "id": "pW0p0R6d99iA"
      },
      "source": [
        "#### **`Q2.1 Create the STL10_Dataset (5-pts)`**\n",
        "In this Session, download STL-10 and extract 5 classes from STL-10 training dataset. The the labels of images will be defined as: \n",
        "\n",
        "`{1: 'car',2:'deer',3:'horse',4:'monkey',5:'truck'}`\n",
        "\n",
        " Extract mentioned 5 classes of images from STL-10. Complement *`STL10_Dataset`* class and match each class with the label accordingly. Hint: You can use the codes above to help to complement *`STL10_Dataset`* class. (5-pts)\n"
      ]
    },
    {
      "cell_type": "code",
      "execution_count": 22,
      "metadata": {
        "id": "lPhepFAq99iA"
      },
      "outputs": [],
      "source": [
        "import io\n",
        "\n",
        "class STL10_Dataset(Dataset):\n",
        "    def __init__(self, root, train=True, transform=None):\n",
        "        self.root = root\n",
        "        self.train = train\n",
        "        self.transform = transform\n",
        "        \n",
        "        imgs = read_all_images(root + \"_X.bin\")\n",
        "        labels = read_labels(root + \"_y.bin\")\n",
        "        self.data = list(zip(imgs, labels))\n",
        "\n",
        "        new_img  = []\n",
        "        new_labels = []\n",
        "        for img, label in self.data:\n",
        "          if label < 6:\n",
        "            new_img.append(img)\n",
        "            new_labels.append(label)\n",
        "        \n",
        "        self.data = list(zip(new_img, new_labels))\n",
        "\n",
        "    def __len__(self):\n",
        "        return len(self.data)\n",
        "\n",
        "    def __getitem__(self, item):\n",
        "        img, target = self.data[item] \n",
        "        if self.transform:\n",
        "            img = Image.fromarray(img)\n",
        "            img = self.transform(img)\n",
        "        img = np.transpose(img, (2, 0, 1))\n",
        "        img = img.astype(dtype=np.float32)\n",
        "        return img, target - 1\n"
      ]
    },
    {
      "cell_type": "markdown",
      "metadata": {
        "id": "pNLyFVEWw3Ge"
      },
      "source": [
        "### 2.2 Fine-tuning ConvNet\n",
        "You should load the pre-trained parameters and modify the output layer of pre-trained ConvNet from 100 to 5. You can either load the pre-trained parameters and then modify the output layer, or change the output layer firstly and then load the matched pre-trained parameters. The examples can be found at [link1](https://pytorch.org/tutorials/intermediate/torchvision_tutorial.html) and [link2](https://pytorch.org/tutorials/beginner/transfer_learning_tutorial.html).\n"
      ]
    },
    {
      "cell_type": "markdown",
      "metadata": {
        "id": "AC3ipaYR99iB"
      },
      "source": [
        "#### **`Q2.2  Finetuning from ConvNet (10-pts)`**\n",
        "1. Load the pre-trained parameters (pretrained on CIFAR-100) and modify the ConvNet. (5-pts)\n",
        "2. Train the model and show the results (settings of hyperparameters, accuracy, learning curve). (5-pts)\n",
        "\n",
        "**Hint**:  Once the network is trained, it is a good practice to understand the feature space by visualization techniques. There are several techniques to visualize the feature space. [**t-sne**](https://lvdmaaten.github.io/tsne/) is a dimensionality reduction method which can help you better understand the feature learning process."
      ]
    },
    {
      "cell_type": "code",
      "execution_count": 23,
      "metadata": {
        "id": "PN_l_WX199iB",
        "colab": {
          "base_uri": "https://localhost:8080/",
          "height": 1000
        },
        "outputId": "f6bc39f6-2984-4384-cb87-134d0d2af5d6"
      },
      "outputs": [
        {
          "output_type": "stream",
          "name": "stdout",
          "text": [
            "ConvNet(\n",
            "  (layer1): Sequential(\n",
            "    (0): Conv2d(3, 6, kernel_size=(5, 5), stride=(1, 1))\n",
            "    (1): Tanh()\n",
            "    (2): AvgPool2d(kernel_size=2, stride=2, padding=0)\n",
            "    (3): Conv2d(6, 16, kernel_size=(5, 5), stride=(1, 1))\n",
            "    (4): Tanh()\n",
            "    (5): AvgPool2d(kernel_size=2, stride=2, padding=0)\n",
            "    (6): Conv2d(16, 120, kernel_size=(5, 5), stride=(1, 1))\n",
            "    (7): Tanh()\n",
            "  )\n",
            "  (layer2): Sequential(\n",
            "    (0): Linear(in_features=34680, out_features=110, bias=True)\n",
            "    (1): ReLU()\n",
            "    (2): Linear(in_features=110, out_features=5, bias=True)\n",
            "  )\n",
            ")\n",
            "using Tesla T4 to train\n",
            "epoch 1\n",
            "--------------------> \t loss = 5.499597862362862\n",
            "==------------------> \t loss = 3.951713959376017\n",
            "====----------------> \t loss = 3.1814963004805823\n",
            "======--------------> \t loss = 2.742141999047378\n",
            "========------------> \t loss = 2.4480009310775332\n",
            "==========----------> \t loss = 2.239472752393678\n",
            "============--------> \t loss = 2.092956831455231\n",
            "==============------> \t loss = 1.9636689027150471\n",
            "==============------> \t loss = 1.8630676260218024\n",
            "================----> \t loss = 1.7777733299094187\n",
            "==================--> \t loss = 1.718179241204873\n",
            "====================> \t loss = 1.7070889382422725\n",
            "Accuracy trainset: 71 % - loss trainset= 0.7802802984473072 - Accuracy testset: 58 % - loss testset= 1.0172022604942321\n",
            "epoch 2\n",
            "--------------------> \t loss = 0.735833190381527\n",
            "==------------------> \t loss = 0.7546203931172689\n",
            "====----------------> \t loss = 0.746154167435386\n",
            "======--------------> \t loss = 0.728943002635035\n",
            "========------------> \t loss = 0.7077572378847334\n",
            "==========----------> \t loss = 0.7069093072137167\n",
            "============--------> \t loss = 0.7211630713939666\n",
            "==============------> \t loss = 0.7386350767654285\n",
            "==============------> \t loss = 0.7446418339386582\n",
            "================----> \t loss = 0.7419372075040576\n",
            "==================--> \t loss = 0.7437767516344022\n",
            "====================> \t loss = 0.7396499314640141\n",
            "Accuracy trainset: 82 % - loss trainset= 0.4784798537251316 - Accuracy testset: 62 % - loss testset= 0.9270687794685364\n",
            "epoch 3\n",
            "--------------------> \t loss = 0.5284966118633747\n",
            "==------------------> \t loss = 0.5873058199882507\n",
            "====----------------> \t loss = 0.5482663959264755\n",
            "======--------------> \t loss = 0.5215320145261699\n",
            "========------------> \t loss = 0.5222170775135359\n",
            "==========----------> \t loss = 0.5077276070450627\n",
            "============--------> \t loss = 0.5092229986190796\n",
            "==============------> \t loss = 0.513919766011991\n",
            "==============------> \t loss = 0.5184873780235648\n",
            "================----> \t loss = 0.5148429215793878\n",
            "==================--> \t loss = 0.5120005825391183\n",
            "====================> \t loss = 0.5090214108364491\n",
            "Accuracy trainset: 84 % - loss trainset= 0.38849309067937393 - Accuracy testset: 60 % - loss testset= 1.0646585514545441\n",
            "epoch 4\n",
            "--------------------> \t loss = 0.3294637706130743\n",
            "==------------------> \t loss = 0.3058226118485133\n",
            "====----------------> \t loss = 0.312520179558884\n",
            "======--------------> \t loss = 0.31065004652944106\n",
            "========------------> \t loss = 0.3194580417540338\n",
            "==========----------> \t loss = 0.3224467700997064\n",
            "============--------> \t loss = 0.32560844868421557\n",
            "==============------> \t loss = 0.32484603372582216\n",
            "==============------> \t loss = 0.3261171511840075\n",
            "================----> \t loss = 0.32737953918920437\n",
            "==================--> \t loss = 0.3303862248475735\n",
            "====================> \t loss = 0.32793408349345005\n",
            "Accuracy trainset: 95 % - loss trainset= 0.20021163757088817 - Accuracy testset: 63 % - loss testset= 1.0341017532348633\n",
            "epoch 5\n",
            "--------------------> \t loss = 0.19006866216659546\n",
            "==------------------> \t loss = 0.1715494468808174\n",
            "====----------------> \t loss = 0.16941764984618535\n",
            "======--------------> \t loss = 0.17541932468784266\n",
            "========------------> \t loss = 0.1859602098249727\n",
            "==========----------> \t loss = 0.18959450219259705\n",
            "============--------> \t loss = 0.19616715788841246\n",
            "==============------> \t loss = 0.19328203326777407\n",
            "==============------> \t loss = 0.19096803502179682\n",
            "================----> \t loss = 0.18535207936041792\n",
            "==================--> \t loss = 0.18200647725890845\n",
            "====================> \t loss = 0.18320357695787767\n",
            "Accuracy trainset: 98 % - loss trainset= 0.10363529419785814 - Accuracy testset: 64 % - loss testset= 1.0537842299938203\n",
            "epoch 6\n",
            "--------------------> \t loss = 0.10038270149379969\n",
            "==------------------> \t loss = 0.09333259711662928\n",
            "====----------------> \t loss = 0.1009877236051993\n",
            "======--------------> \t loss = 0.11091855039884305\n",
            "========------------> \t loss = 0.10831477058430512\n",
            "==========----------> \t loss = 0.1027566640702791\n",
            "============--------> \t loss = 0.10295460887253284\n",
            "==============------> \t loss = 0.09935490270717103\n",
            "==============------> \t loss = 0.09842936758650467\n",
            "================----> \t loss = 0.09675862595543895\n",
            "==================--> \t loss = 0.09656850160218966\n",
            "====================> \t loss = 0.0963350578529548\n",
            "Accuracy trainset: 99 % - loss trainset= 0.04067353333664846 - Accuracy testset: 66 % - loss testset= 1.1198234286308288\n",
            "epoch 7\n",
            "--------------------> \t loss = 0.04777814634144306\n",
            "==------------------> \t loss = 0.040124699970086414\n",
            "====----------------> \t loss = 0.03700455693020062\n",
            "======--------------> \t loss = 0.03447037158084327\n",
            "========------------> \t loss = 0.03457072920476397\n",
            "==========----------> \t loss = 0.035061153431617934\n",
            "============--------> \t loss = 0.03508518904447556\n",
            "==============------> \t loss = 0.03395400335195295\n",
            "==============------> \t loss = 0.03409666214429308\n",
            "================----> \t loss = 0.03424832576387365\n",
            "==================--> \t loss = 0.03457818175546634\n",
            "====================> \t loss = 0.03454543131438992\n",
            "Accuracy trainset: 100 % - loss trainset= 0.015258402976242803 - Accuracy testset: 67 % - loss testset= 1.117274583339691\n",
            "epoch 8\n",
            "--------------------> \t loss = 0.01673523458885029\n",
            "==------------------> \t loss = 0.017512271211793027\n",
            "====----------------> \t loss = 0.01679952880790965\n",
            "======--------------> \t loss = 0.016124343258681995\n",
            "========------------> \t loss = 0.015253426028519042\n",
            "==========----------> \t loss = 0.015259771055520274\n",
            "============--------> \t loss = 0.014591979878023267\n",
            "==============------> \t loss = 0.01473117056874591\n",
            "==============------> \t loss = 0.014348399643495213\n",
            "================----> \t loss = 0.01395540247002328\n",
            "==================--> \t loss = 0.013726478561950035\n",
            "====================> \t loss = 0.013628959408194958\n",
            "Accuracy trainset: 100 % - loss trainset= 0.007826466847187545 - Accuracy testset: 67 % - loss testset= 1.1467974185943604\n",
            "epoch 9\n",
            "--------------------> \t loss = 0.006875691935420036\n",
            "==------------------> \t loss = 0.007090765796601772\n",
            "====----------------> \t loss = 0.007384694784625687\n",
            "======--------------> \t loss = 0.007655318433033495\n",
            "========------------> \t loss = 0.007559020156299489\n",
            "==========----------> \t loss = 0.007464318584953976\n",
            "============--------> \t loss = 0.0073776021180674434\n",
            "==============------> \t loss = 0.007350506885957561\n",
            "==============------> \t loss = 0.007179354597610654\n",
            "================----> \t loss = 0.0072062445417518765\n",
            "==================--> \t loss = 0.007154117481639752\n",
            "====================> \t loss = 0.007138307200438237\n",
            "Accuracy trainset: 100 % - loss trainset= 0.0053732426972658955 - Accuracy testset: 67 % - loss testset= 1.1813213624954224\n",
            "epoch 10\n",
            "--------------------> \t loss = 0.00603595853317529\n",
            "==------------------> \t loss = 0.005532735772430897\n",
            "====----------------> \t loss = 0.005458689781583168\n",
            "======--------------> \t loss = 0.005353995414193848\n",
            "========------------> \t loss = 0.00521797335629041\n",
            "==========----------> \t loss = 0.005162537309102887\n",
            "============--------> \t loss = 0.00505835022777319\n",
            "==============------> \t loss = 0.005080161146460134\n",
            "==============------> \t loss = 0.00502397869786364\n",
            "================----> \t loss = 0.004988665666273782\n",
            "==================--> \t loss = 0.004952287716337313\n",
            "====================> \t loss = 0.005035675340037369\n",
            "Accuracy trainset: 100 % - loss trainset= 0.0038649405948110397 - Accuracy testset: 67 % - loss testset= 1.2207887921333314\n",
            "epoch 11\n",
            "--------------------> \t loss = 0.003347102174302563\n",
            "==------------------> \t loss = 0.0038281086056182784\n",
            "====----------------> \t loss = 0.0038399476219307294\n",
            "======--------------> \t loss = 0.003946637879286347\n",
            "========------------> \t loss = 0.003923727412863324\n",
            "==========----------> \t loss = 0.003899050668033576\n",
            "============--------> \t loss = 0.003910008899401874\n",
            "==============------> \t loss = 0.003937061306236214\n",
            "==============------> \t loss = 0.0039024529214657377\n",
            "================----> \t loss = 0.0039008239933460112\n",
            "==================--> \t loss = 0.003849381369013244\n",
            "====================> \t loss = 0.003852460047088658\n",
            "Accuracy trainset: 100 % - loss trainset= 0.0030823740445053843 - Accuracy testset: 67 % - loss testset= 1.235238932609558\n",
            "epoch 12\n",
            "--------------------> \t loss = 0.0030954403919167817\n",
            "==------------------> \t loss = 0.0029712826013565063\n",
            "====----------------> \t loss = 0.0030194517034529285\n",
            "======--------------> \t loss = 0.0029393661614700124\n",
            "========------------> \t loss = 0.00296877255055329\n",
            "==========----------> \t loss = 0.0030700164592586633\n",
            "============--------> \t loss = 0.00302870515268296\n",
            "==============------> \t loss = 0.0029761452603627716\n",
            "==============------> \t loss = 0.002996962270117365\n",
            "================----> \t loss = 0.00304393090871753\n",
            "==================--> \t loss = 0.0030618383973024976\n",
            "====================> \t loss = 0.003052922564004607\n",
            "Accuracy trainset: 100 % - loss trainset= 0.0026508827216310212 - Accuracy testset: 67 % - loss testset= 1.2540747680664062\n",
            "epoch 13\n",
            "--------------------> \t loss = 0.00238778829225339\n",
            "==------------------> \t loss = 0.0025164702131102485\n",
            "====----------------> \t loss = 0.002437946264928376\n",
            "======--------------> \t loss = 0.002496989207053236\n",
            "========------------> \t loss = 0.002514119001312388\n",
            "==========----------> \t loss = 0.002484672442944937\n",
            "============--------> \t loss = 0.0024406497506424783\n",
            "==============------> \t loss = 0.0025044958956801054\n",
            "==============------> \t loss = 0.0025300530232925666\n",
            "================----> \t loss = 0.0025403107709946558\n",
            "==================--> \t loss = 0.002560690002074131\n",
            "====================> \t loss = 0.002570674181444264\n",
            "Accuracy trainset: 100 % - loss trainset= 0.0022573648698486484 - Accuracy testset: 67 % - loss testset= 1.2705983645915986\n",
            "epoch 14\n",
            "--------------------> \t loss = 0.0022880727337906137\n",
            "==------------------> \t loss = 0.002343271494222184\n",
            "====----------------> \t loss = 0.0022683704631741753\n",
            "======--------------> \t loss = 0.0022735916126262524\n",
            "========------------> \t loss = 0.0021998835598222083\n",
            "==========----------> \t loss = 0.002183993799113777\n",
            "============--------> \t loss = 0.0021631243475712836\n",
            "==============------> \t loss = 0.0021786101452450743\n",
            "==============------> \t loss = 0.002164622685086215\n",
            "================----> \t loss = 0.002174255295499215\n",
            "==================--> \t loss = 0.002160569082778425\n",
            "====================> \t loss = 0.0021596423385641245\n",
            "Accuracy trainset: 100 % - loss trainset= 0.0018645872662574807 - Accuracy testset: 67 % - loss testset= 1.2880437636375428\n",
            "epoch 15\n",
            "--------------------> \t loss = 0.002052961935987696\n",
            "==------------------> \t loss = 0.001896172536847492\n",
            "====----------------> \t loss = 0.0019411890270103786\n",
            "======--------------> \t loss = 0.0019522401271387935\n",
            "========------------> \t loss = 0.001944977295352146\n",
            "==========----------> \t loss = 0.001943065814652242\n",
            "============--------> \t loss = 0.0019136542337946593\n",
            "==============------> \t loss = 0.0018874765414613904\n",
            "==============------> \t loss = 0.0018653750867088092\n",
            "================----> \t loss = 0.0018693207776252652\n",
            "==================--> \t loss = 0.0018623682673280246\n",
            "====================> \t loss = 0.0018485378388527639\n",
            "Accuracy trainset: 100 % - loss trainset= 0.0016530102164531717 - Accuracy testset: 67 % - loss testset= 1.2990422933101653\n",
            "epoch 16\n",
            "--------------------> \t loss = 0.001634668864426203\n",
            "==------------------> \t loss = 0.0017567873854810992\n",
            "====----------------> \t loss = 0.0017580605768175287\n",
            "======--------------> \t loss = 0.001717262837136614\n",
            "========------------> \t loss = 0.001685028294256578\n",
            "==========----------> \t loss = 0.0016686366356606053\n",
            "============--------> \t loss = 0.001621541241183877\n",
            "==============------> \t loss = 0.001610517636627743\n",
            "==============------> \t loss = 0.0016184128617169335\n",
            "================----> \t loss = 0.0016173069811308049\n",
            "==================--> \t loss = 0.0016226304474119574\n",
            "====================> \t loss = 0.0016260809026352023\n",
            "Accuracy trainset: 100 % - loss trainset= 0.0014520286688510377 - Accuracy testset: 67 % - loss testset= 1.3092652890682221\n",
            "epoch 17\n",
            "--------------------> \t loss = 0.0014486163418041542\n",
            "==------------------> \t loss = 0.0014605713542550803\n",
            "====----------------> \t loss = 0.0014128627001561902\n",
            "======--------------> \t loss = 0.0014008208948733478\n",
            "========------------> \t loss = 0.0014001508114031619\n",
            "==========----------> \t loss = 0.0014125709800959327\n",
            "============--------> \t loss = 0.0014305809489451348\n",
            "==============------> \t loss = 0.0014281788158736993\n",
            "==============------> \t loss = 0.0014174715342960553\n",
            "================----> \t loss = 0.0014235491562687174\n",
            "==================--> \t loss = 0.0014219136493734252\n",
            "====================> \t loss = 0.0015228361943500895\n",
            "Accuracy trainset: 100 % - loss trainset= 0.0012800804415977077 - Accuracy testset: 67 % - loss testset= 1.3269118514060974\n",
            "epoch 18\n",
            "--------------------> \t loss = 0.0012704445398412645\n",
            "==------------------> \t loss = 0.0013631863674769798\n",
            "====----------------> \t loss = 0.0013549611215818334\n",
            "======--------------> \t loss = 0.0013103022356517613\n",
            "========------------> \t loss = 0.0012943489467337106\n",
            "==========----------> \t loss = 0.0012905334276796946\n",
            "============--------> \t loss = 0.0012851857522036881\n",
            "==============------> \t loss = 0.001261761778630643\n",
            "==============------> \t loss = 0.0012924144330099807\n",
            "================----> \t loss = 0.0012881672542712744\n",
            "==================--> \t loss = 0.0012987425307540272\n",
            "====================> \t loss = 0.001303242512866619\n",
            "Accuracy trainset: 100 % - loss trainset= 0.0011310444852260613 - Accuracy testset: 67 % - loss testset= 1.3348166947364808\n",
            "epoch 19\n",
            "--------------------> \t loss = 0.0011748750257538632\n",
            "==------------------> \t loss = 0.001069288890964041\n",
            "====----------------> \t loss = 0.0011084048680707135\n",
            "======--------------> \t loss = 0.0011111359224365703\n",
            "========------------> \t loss = 0.001107779287849553\n",
            "==========----------> \t loss = 0.001130927427195359\n",
            "============--------> \t loss = 0.001115501468302682\n",
            "==============------> \t loss = 0.001102578499468795\n",
            "==============------> \t loss = 0.0011300357537038508\n",
            "================----> \t loss = 0.0011210214718848362\n",
            "==================--> \t loss = 0.001129646653470655\n",
            "====================> \t loss = 0.0011376124074317137\n",
            "Accuracy trainset: 100 % - loss trainset= 0.00103035989096624 - Accuracy testset: 67 % - loss testset= 1.3461312401294707\n",
            "epoch 20\n",
            "--------------------> \t loss = 0.0010080107167595997\n",
            "==------------------> \t loss = 0.000974093071029832\n",
            "====----------------> \t loss = 0.0010498737868725914\n",
            "======--------------> \t loss = 0.0010179171382834942\n",
            "========------------> \t loss = 0.0010042486764076683\n",
            "==========----------> \t loss = 0.0010107525266966847\n",
            "============--------> \t loss = 0.0010117594886105508\n",
            "==============------> \t loss = 0.000990624017727545\n",
            "==============------> \t loss = 0.0010034790402642102\n",
            "================----> \t loss = 0.0010191755939904653\n",
            "==================--> \t loss = 0.001013942136733721\n",
            "====================> \t loss = 0.0010175049839883194\n",
            "Accuracy trainset: 100 % - loss trainset= 0.0009155912861549236 - Accuracy testset: 67 % - loss testset= 1.3536576126813888\n",
            "Finished Training\n"
          ]
        },
        {
          "output_type": "display_data",
          "data": {
            "text/plain": [
              "<Figure size 432x288 with 1 Axes>"
            ],
            "image/png": "[encoded data removed]"
          },
          "metadata": {
            "needs_background": "light"
          }
        },
        {
          "output_type": "stream",
          "name": "stdout",
          "text": [
            "Accuracy of the network on the 10000 test images: 67 %\n"
          ]
        }
      ],
      "source": [
        "# Cnet.layer2 = nn.Sequential(\n",
        "#     nn.Linear(in_features=34680, out_features=110),\n",
        "#     nn.ReLU(),\n",
        "#     nn.Linear(in_features=110, out_features=5)\n",
        "# )\n",
        "\n",
        "Cnet.layer2[0] = nn.Linear(34680, 110)\n",
        "Cnet.layer2[-1] = nn.Linear(110, 5)\n",
        "\n",
        "print(Cnet)\n",
        "\n",
        "trainloader = DataLoader(STL10_Dataset(\"data/stl10_binary/train\"), batch_size=32, shuffle=True)\n",
        "testloader = DataLoader(STL10_Dataset(\"data/stl10_binary/test\"), batch_size=32, shuffle=True)\n",
        "\n",
        "Cnet_info = train(Cnet, trainloader, testloader, 10)\n",
        "\n",
        "plt.plot(Cnet_info['acc-train'], label = \"acc trainset\")\n",
        "plt.plot(Cnet_info['acc-test'], label = \"acc testset\")\n",
        "plt.plot(np.array(Cnet_info['loss-train']) / max(Cnet_info['loss-train'], Cnet_info['loss-test']), label = \"loss trainset\")\n",
        "plt.plot(np.array(Cnet_info['loss-test']) / max(Cnet_info['loss-train'], Cnet_info['loss-test']), label=\"loss testset\")\n",
        "plt.xticks(np.arange(len(Cnet_info['acc-train'])))\n",
        "plt.xlabel('epoch')\n",
        "plt.legend()\n",
        "plt.show()\n",
        "\n",
        "valid(Cnet, testloader)"
      ]
    },
    {
      "cell_type": "code",
      "execution_count": null,
      "metadata": {
        "id": "5jkgXVGt99iB"
      },
      "outputs": [],
      "source": [
        "################################\n",
        "# Todo: finish the code\n",
        "################################"
      ]
    },
    {
      "cell_type": "markdown",
      "metadata": {
        "id": "nDUT9jtY99iB"
      },
      "source": [
        "###  **`Bonus (optional)`**\n",
        "Play with the code and try to get a higher accuracy on the test dataset (5 class from STL-10) as high as you can. The only data you can use is from CIFAR-100 and SLT-10. The higher accuracy among all teams can get extra points. Specifically, **1st:** *5-pts*, **2nd and 3rd:** *4-pts*, **4th and 5th:** *3-pts*, **6th and 7th:** *2-pts*, **8th-10th:** *1-pts*. You can adjust the hyperparameters and changing structures. Your strategies should be described and explained in your report.\n",
        "\n",
        "*Please do not use external well-defined networks and please do not add more than 3 additional (beyond the original network) convolutional layers.*\n",
        "\n",
        "**Hints**:\n",
        "*   Data augmentation\n",
        "*   Grid Search\n",
        "*   Freezing early layers\n",
        "*   Modifying Architecture\n",
        "*   Modifying hyperparameters, *etc*.\n",
        "*   [Other advice](https://cs231n.github.io/transfer-learning/)"
      ]
    },
    {
      "cell_type": "code",
      "execution_count": null,
      "metadata": {
        "id": "P1YsjfP199iB"
      },
      "outputs": [],
      "source": [
        "################################\n",
        "# Todo: finish the code\n",
        "################################"
      ]
    }
  ],
  "metadata": {
    "colab": {
      "collapsed_sections": [],
      "provenance": []
    },
    "kernelspec": {
      "display_name": "Python 3.6.15 ('cv1lab5part2')",
      "language": "python",
      "name": "python3"
    },
    "language_info": {
      "codemirror_mode": {
        "name": "ipython",
        "version": 3
      },
      "file_extension": ".py",
      "mimetype": "text/x-python",
      "name": "python",
      "nbconvert_exporter": "python",
      "pygments_lexer": "ipython3",
      "version": "3.6.15"
    },
    "vscode": {
      "interpreter": {
        "hash": "e031e9519224925528a72f2e3e73d0d7937929437ea7117fc9af0ed109f4cb51"
      }
    },
    "accelerator": "GPU"
  },
  "nbformat": 4,
  "nbformat_minor": 0
}